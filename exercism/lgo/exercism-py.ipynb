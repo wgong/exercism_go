{
 "cells": [
  {
   "cell_type": "code",
   "execution_count": 8,
   "metadata": {},
   "outputs": [],
   "source": [
    "def abbreviate3(text):\n",
    "    titles_only = (c for c in text.title() if c.isupper())\n",
    "    return ''.join(titles_only)"
   ]
  },
  {
   "cell_type": "code",
   "execution_count": 1,
   "metadata": {},
   "outputs": [],
   "source": [
    "def abbreviate2(words):\n",
    "    return \"\".join([w[0].upper() for w in words.replace(\"-\", \" \").split()])"
   ]
  },
  {
   "cell_type": "code",
   "execution_count": 1,
   "metadata": {},
   "outputs": [
    {
     "data": {
      "text/plain": [
       "18446744073709551615"
      ]
     },
     "execution_count": 1,
     "metadata": {},
     "output_type": "execute_result"
    }
   ],
   "source": [
    "2**64-1"
   ]
  },
  {
   "cell_type": "code",
   "execution_count": 11,
   "metadata": {},
   "outputs": [
    {
     "data": {
      "text/plain": [
       "676000"
      ]
     },
     "execution_count": 11,
     "metadata": {},
     "output_type": "execute_result"
    }
   ],
   "source": [
    "26*26*1000"
   ]
  },
  {
   "cell_type": "code",
   "execution_count": 31,
   "metadata": {},
   "outputs": [],
   "source": [
    "def abbreviate(words):\n",
    "    wlist = words.split()   # split by whitespace\n",
    "    if len(wlist) < 2:\n",
    "        raise Exception(\"1 letter acronym: too short!\")\n",
    "    nickname = \"\"\n",
    "    for w in wlist:\n",
    "        #print(\"w=\", w)\n",
    "        if w == '-': \n",
    "            continue\n",
    "        if '-' in w:\n",
    "            wlist2 = w.split(\"-\")  # split by hyphen\n",
    "            for w2 in wlist2:\n",
    "                #print(\"w2=\", w2)\n",
    "                nickname += w2[0].upper()\n",
    "        else:\n",
    "            #print(\"w=\", w)\n",
    "            nickname += w[0].upper()\n",
    "    return nickname"
   ]
  },
  {
   "cell_type": "code",
   "execution_count": 32,
   "metadata": {},
   "outputs": [
    {
     "name": "stdout",
     "output_type": "stream",
     "text": [
      "CMOS\n"
     ]
    }
   ],
   "source": [
    "print(abbreviate(\"Complementary metal-oxide semiconductor\"))"
   ]
  },
  {
   "cell_type": "code",
   "execution_count": 2,
   "metadata": {},
   "outputs": [
    {
     "name": "stdout",
     "output_type": "stream",
     "text": [
      "CMOS\n"
     ]
    }
   ],
   "source": [
    "print(abbreviate2(\"Complementary metal-oxide semiconductor\"))"
   ]
  },
  {
   "cell_type": "code",
   "execution_count": 9,
   "metadata": {},
   "outputs": [
    {
     "name": "stdout",
     "output_type": "stream",
     "text": [
      "CMOS\n"
     ]
    }
   ],
   "source": [
    "print(abbreviate3(\"Complementary metal-oxide semiconductor\"))"
   ]
  },
  {
   "cell_type": "code",
   "execution_count": 23,
   "metadata": {},
   "outputs": [
    {
     "name": "stdout",
     "output_type": "stream",
     "text": [
      "SIMUFTA\n"
     ]
    }
   ],
   "source": [
    "print(abbreviate(\"Something - I made up from thin air\"))"
   ]
  },
  {
   "cell_type": "code",
   "execution_count": 3,
   "metadata": {},
   "outputs": [
    {
     "name": "stdout",
     "output_type": "stream",
     "text": [
      "SIMUFTA\n"
     ]
    }
   ],
   "source": [
    "print(abbreviate2(\"Something - I made up from thin air\"))"
   ]
  },
  {
   "cell_type": "code",
   "execution_count": 4,
   "metadata": {},
   "outputs": [
    {
     "name": "stdout",
     "output_type": "stream",
     "text": [
      "PNG\n"
     ]
    }
   ],
   "source": [
    "print(abbreviate2('Portable Network Graphics'))"
   ]
  },
  {
   "cell_type": "code",
   "execution_count": 5,
   "metadata": {},
   "outputs": [
    {
     "name": "stdout",
     "output_type": "stream",
     "text": [
      "PNG\n"
     ]
    }
   ],
   "source": [
    "print(abbreviate2('Portable   Network Graphics'))"
   ]
  },
  {
   "cell_type": "code",
   "execution_count": 10,
   "metadata": {},
   "outputs": [
    {
     "name": "stdout",
     "output_type": "stream",
     "text": [
      "FIFO\n"
     ]
    }
   ],
   "source": [
    "print(abbreviate3('First In, First Out'))"
   ]
  },
  {
   "cell_type": "code",
   "execution_count": 7,
   "metadata": {},
   "outputs": [
    {
     "name": "stdout",
     "output_type": "stream",
     "text": [
      "F\n"
     ]
    }
   ],
   "source": [
    "print(abbreviate2('First'))"
   ]
  },
  {
   "cell_type": "code",
   "execution_count": 1,
   "metadata": {},
   "outputs": [
    {
     "name": "stdout",
     "output_type": "stream",
     "text": [
      "env.ipynb\t   exercism-py.ipynb  Go_By_Example.ipynb  sum.ipynb\r\n",
      "exercism-go.ipynb  factoring.ipynb    Grains.ipynb\t   Valid.ipynb\r\n"
     ]
    }
   ],
   "source": [
    "!ls"
   ]
  },
  {
   "cell_type": "code",
   "execution_count": 18,
   "metadata": {},
   "outputs": [],
   "source": [
    "import glob\n",
    "import shutil\n",
    "\n",
    "rep_str = \"md at master · wgong_learn-go-with-tests.\"\n",
    "\n",
    "for filename in glob.glob(\"*\"):\n",
    "    if filename.find(rep_str) > 0:\n",
    "        file_new = filename.replace(rep_str,'')\n",
    "        shutil.move(filename, file_new)\n",
    "        print(\"mv %s %s\" % (filename, file_new))"
   ]
  },
  {
   "cell_type": "code",
   "execution_count": null,
   "metadata": {},
   "outputs": [],
   "source": []
  }
 ],
 "metadata": {
  "kernelspec": {
   "display_name": "Python 3",
   "language": "python",
   "name": "python3"
  },
  "language_info": {
   "codemirror_mode": {
    "name": "ipython",
    "version": 3
   },
   "file_extension": ".py",
   "mimetype": "text/x-python",
   "name": "python",
   "nbconvert_exporter": "python",
   "pygments_lexer": "ipython3",
   "version": "3.7.0"
  }
 },
 "nbformat": 4,
 "nbformat_minor": 2
}
