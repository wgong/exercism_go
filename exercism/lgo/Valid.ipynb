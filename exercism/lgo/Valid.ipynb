{
 "cells": [
  {
   "cell_type": "code",
   "execution_count": 1,
   "metadata": {},
   "outputs": [],
   "source": [
    "import (\n",
    "    \"regexp\"\n",
    "    \"fmt\"\n",
    ")"
   ]
  },
  {
   "cell_type": "code",
   "execution_count": 40,
   "metadata": {},
   "outputs": [],
   "source": [
    "func Valid(cardNum string) bool {\n",
    "\tif len(cardNum) < 2 {\n",
    "\t\treturn false\n",
    "\t}\n",
    "    \n",
    "    // cleanup card_num\n",
    "    r, _ := regexp.Compile(\"[ ]\")\n",
    "    cardNum = r.ReplaceAllString(cardNum, \"\")\n",
    "\n",
    "    r, _ = regexp.Compile(\"^[0-9]+$\")\n",
    "    if r.MatchString(cardNum) == false {\n",
    "        return false\n",
    "    }\n",
    "    \n",
    "    var n, sm int\n",
    "\n",
    "    for i:=len(cardNum)-1; i > -1; i -= 2 {\n",
    "        fmt.Println(int(cardNum[i] - '0'))\n",
    "        n = int(cardNum[i] - '0')\n",
    "        sm += n        \n",
    "        fmt.Println(\"\\t\", n)\n",
    "    }\n",
    "\n",
    "    fmt.Println(\"****\")\n",
    "    for i:=len(cardNum)-2; i > -1; i -= 2 {\n",
    "        fmt.Println(int(cardNum[i] - '0'))\n",
    "        n = 2*int(cardNum[i] - '0')\n",
    "        if n > 9 {\n",
    "            n -= 9\n",
    "        }\n",
    "        sm += n\n",
    "        fmt.Println(\"\\t\", n)\n",
    "    }   \n",
    "\n",
    "    fmt.Println(sm)\n",
    "    \n",
    "    if sm%10 == 0 {\n",
    "        return true\n",
    "    } else {\n",
    "        return false\n",
    "    }    \n",
    "}"
   ]
  },
  {
   "cell_type": "markdown",
   "metadata": {},
   "source": [
    "2nd version"
   ]
  },
  {
   "cell_type": "code",
   "execution_count": 49,
   "metadata": {},
   "outputs": [],
   "source": [
    "import \"unicode\"\n",
    "import \"fmt\""
   ]
  },
  {
   "cell_type": "code",
   "execution_count": 83,
   "metadata": {},
   "outputs": [],
   "source": [
    "func Valid(cardNum string) bool {\n",
    "\tif len(cardNum) < 2 {\n",
    "\t\treturn false\n",
    "\t}\n",
    "\t\n",
    "\tvar pos, n, sm int\n",
    "\t// pos : track digit position from right\n",
    "\t// n : int value of a digit\n",
    "\t// sm : running sum of digits\n",
    "\t\n",
    "\tfor i := len(cardNum) - 1; i > -1; i-- {\n",
    "        fmt.Println(string(cardNum[i]))\n",
    "        if unicode.IsSpace(rune(cardNum[i])) {\n",
    "\t\t\tcontinue\n",
    "\t\t}\n",
    "\t\t\n",
    "        if !unicode.IsDigit(rune(cardNum[i])) {\n",
    "\t\t\treturn false\n",
    "\t\t}\n",
    "        fmt.Println(unicode.IsDigit(rune(cardNum[i])))\n",
    "        \n",
    "\t\t\n",
    "        pos++\n",
    "\t\tn = int(cardNum[i] - '0')\n",
    "        fmt.Println(\" n=\", n)\n",
    "        \n",
    "\t\tif pos%2 == 0 {\n",
    "            \n",
    "\t\t\tif (2*n) > 9 {\n",
    "\t\t\t\tn = 2*n -9\n",
    "            } else {\n",
    "                n = 2*n\n",
    "            }\n",
    "\t\t} \n",
    "\t\t\n",
    "\t\tsm += n\n",
    "        fmt.Println(\" pos=\", pos, \" n=\", n, \" sm=\", sm)\n",
    "\n",
    "\t}\n",
    "\n",
    "    if (sm == 0 && pos == 1) || sm%10 > 0 {\n",
    "\t\treturn false\n",
    "\t}\n",
    "\treturn true\n",
    "}"
   ]
  },
  {
   "cell_type": "code",
   "execution_count": 90,
   "metadata": {},
   "outputs": [],
   "source": [
    "func Valid(cardNum string) bool {\n",
    "\tif len(cardNum) < 2 {\n",
    "\t\treturn false\n",
    "\t}\n",
    "\tvar sm, pos int\n",
    "\tfor i := len(cardNum) - 1; i > -1; i-- {\n",
    "        fmt.Println(\"digit= \",string(cardNum[i]))\n",
    "\t\tif unicode.IsSpace(rune(cardNum[i])) {\n",
    "\t\t\tcontinue\n",
    "\t\t}\n",
    "\t\tif !unicode.IsDigit(rune(cardNum[i])) {\n",
    "\t\t\treturn false\n",
    "\t\t}\n",
    "\t\tpos++                      // track digit position from right\n",
    "\t\tn := int(cardNum[i] - '0') // int value of a digit\n",
    "\t\tif pos%2 == 0 {\n",
    "\t\t\tn *= 2\n",
    "\t\t\tif n > 9 {\n",
    "\t\t\t\tn -= 9\n",
    "\t\t\t}\n",
    "\t\t}\n",
    "\t\tsm += n // running sum of digits\n",
    "        fmt.Println(\" pos=\", pos, \" n=\", n, \" sm=\", sm)\n",
    "\t}\n",
    "\tif sm%10 > 0 || (sm == 0 && pos == 1) {\n",
    "\t\treturn false\n",
    "\t}\n",
    "\treturn true\n",
    "}"
   ]
  },
  {
   "cell_type": "code",
   "execution_count": 91,
   "metadata": {},
   "outputs": [
    {
     "name": "stdout",
     "output_type": "stream",
     "text": [
      "digit=  5\n",
      " pos= 1  n= 5  sm= 5\n",
      "digit=  8\n",
      " pos= 2  n= 7  sm= 12\n",
      "digit=  2\n",
      " pos= 3  n= 2  sm= 14\n",
      "digit=   \n",
      "digit=  4\n",
      " pos= 4  n= 8  sm= 22\n",
      "digit=  4\n",
      " pos= 5  n= 4  sm= 26\n",
      "digit=  4\n",
      " pos= 6  n= 8  sm= 34\n",
      "digit=   \n",
      "digit=  5\n",
      " pos= 7  n= 5  sm= 39\n",
      "digit=  5\n",
      " pos= 8  n= 1  sm= 40\n",
      "digit=  0\n",
      " pos= 9  n= 0  sm= 40\n",
      "true\n"
     ]
    }
   ],
   "source": [
    "Valid(\"055 444 285\")  //true"
   ]
  },
  {
   "cell_type": "code",
   "execution_count": 87,
   "metadata": {},
   "outputs": [
    {
     "name": "stdout",
     "output_type": "stream",
     "text": [
      "false\n"
     ]
    }
   ],
   "source": [
    "Valid(\" 0\")  //true"
   ]
  },
  {
   "cell_type": "code",
   "execution_count": 85,
   "metadata": {},
   "outputs": [
    {
     "name": "stdout",
     "output_type": "stream",
     "text": [
      "0\n",
      "true\n",
      " n= 0\n",
      " pos= 1  n= 0  sm= 0\n",
      " \n",
      "0\n",
      "true\n",
      " n= 0\n",
      " pos= 2  n= 0  sm= 0\n",
      "0\n",
      "true\n",
      " n= 0\n",
      " pos= 3  n= 0  sm= 0\n",
      "0\n",
      "true\n",
      " n= 0\n",
      " pos= 4  n= 0  sm= 0\n",
      "0\n",
      "true\n",
      " n= 0\n",
      " pos= 5  n= 0  sm= 0\n",
      "true\n"
     ]
    }
   ],
   "source": [
    "Valid(\"0000 0\")  //true"
   ]
  },
  {
   "cell_type": "code",
   "execution_count": 73,
   "metadata": {},
   "outputs": [
    {
     "name": "stdout",
     "output_type": "stream",
     "text": [
      "7\n",
      "true\n",
      " n= 7\n",
      " pos= 1  n= 7  sm= 7\n",
      "6\n",
      "true\n",
      " n= 6\n",
      " pos= 2  n= 3  sm= 10\n",
      "4\n",
      "true\n",
      " n= 4\n",
      " pos= 3  n= 4  sm= 14\n",
      "6\n",
      "true\n",
      " n= 6\n",
      " pos= 4  n= 3  sm= 17\n",
      " \n",
      "3\n",
      "true\n",
      " n= 3\n",
      " pos= 5  n= 3  sm= 20\n",
      "4\n",
      "true\n",
      " n= 4\n",
      " pos= 6  n= 8  sm= 28\n",
      "3\n",
      "true\n",
      " n= 3\n",
      " pos= 7  n= 3  sm= 31\n",
      "0\n",
      "true\n",
      " n= 0\n",
      " pos= 8  n= 0  sm= 31\n",
      " \n",
      "8\n",
      "true\n",
      " n= 8\n",
      " pos= 9  n= 8  sm= 39\n",
      "8\n",
      "true\n",
      " n= 8\n",
      " pos= 10  n= 7  sm= 46\n",
      "4\n",
      "true\n",
      " n= 4\n",
      " pos= 11  n= 4  sm= 50\n",
      "1\n",
      "true\n",
      " n= 1\n",
      " pos= 12  n= 2  sm= 52\n",
      " \n",
      "9\n",
      "true\n",
      " n= 9\n",
      " pos= 13  n= 9  sm= 61\n",
      "3\n",
      "true\n",
      " n= 3\n",
      " pos= 14  n= 6  sm= 67\n",
      "5\n",
      "true\n",
      " n= 5\n",
      " pos= 15  n= 5  sm= 72\n",
      "4\n",
      "true\n",
      " n= 4\n",
      " pos= 16  n= 8  sm= 80\n",
      "true\n"
     ]
    }
   ],
   "source": [
    "Valid(\"4539 1488 0343 6467\")  //true"
   ]
  },
  {
   "cell_type": "code",
   "execution_count": 74,
   "metadata": {},
   "outputs": [
    {
     "name": "stdout",
     "output_type": "stream",
     "text": [
      "5\n",
      "true\n",
      " n= 5\n",
      " pos= 1  n= 5  sm= 5\n",
      "8\n",
      "true\n",
      " n= 8\n",
      " pos= 2  n= 7  sm= 12\n",
      "2\n",
      "true\n",
      " n= 2\n",
      " pos= 3  n= 2  sm= 14\n",
      " \n",
      "4\n",
      "true\n",
      " n= 4\n",
      " pos= 4  n= 8  sm= 22\n",
      "4\n",
      "true\n",
      " n= 4\n",
      " pos= 5  n= 4  sm= 26\n",
      "4\n",
      "true\n",
      " n= 4\n",
      " pos= 6  n= 8  sm= 34\n",
      " \n",
      "a\n",
      "false\n"
     ]
    }
   ],
   "source": [
    "Valid(\"055a 444 285\")  //false"
   ]
  },
  {
   "cell_type": "code",
   "execution_count": 75,
   "metadata": {},
   "outputs": [
    {
     "name": "stdout",
     "output_type": "stream",
     "text": [
      "9\n",
      "true\n",
      " n= 9\n",
      " pos= 1  n= 9  sm= 9\n",
      "6\n",
      "true\n",
      " n= 6\n",
      " pos= 2  n= 3  sm= 12\n",
      "5\n",
      "true\n",
      " n= 5\n",
      " pos= 3  n= 5  sm= 17\n",
      "0\n",
      "true\n",
      " n= 0\n",
      " pos= 4  n= 0  sm= 17\n",
      " \n",
      "2\n",
      "true\n",
      " n= 2\n",
      " pos= 5  n= 2  sm= 19\n",
      "5\n",
      "true\n",
      " n= 5\n",
      " pos= 6  n= 1  sm= 20\n",
      "3\n",
      "true\n",
      " n= 3\n",
      " pos= 7  n= 3  sm= 23\n",
      "7\n",
      "true\n",
      " n= 7\n",
      " pos= 8  n= 5  sm= 28\n",
      " \n",
      "2\n",
      "true\n",
      " n= 2\n",
      " pos= 9  n= 2  sm= 30\n",
      "3\n",
      "true\n",
      " n= 3\n",
      " pos= 10  n= 6  sm= 36\n",
      "2\n",
      "true\n",
      " n= 2\n",
      " pos= 11  n= 2  sm= 38\n",
      "1\n",
      "true\n",
      " n= 1\n",
      " pos= 12  n= 2  sm= 40\n",
      " \n",
      "3\n",
      "true\n",
      " n= 3\n",
      " pos= 13  n= 3  sm= 43\n",
      "7\n",
      "true\n",
      " n= 7\n",
      " pos= 14  n= 5  sm= 48\n",
      "2\n",
      "true\n",
      " n= 2\n",
      " pos= 15  n= 2  sm= 50\n",
      "8\n",
      "true\n",
      " n= 8\n",
      " pos= 16  n= 7  sm= 57\n",
      "false\n"
     ]
    }
   ],
   "source": [
    "Valid(\"8273 1232 7352 0569\")  //false"
   ]
  },
  {
   "cell_type": "code",
   "execution_count": null,
   "metadata": {},
   "outputs": [],
   "source": [
    "//exercism download --exercise=luhn --track=go"
   ]
  },
  {
   "cell_type": "code",
   "execution_count": null,
   "metadata": {},
   "outputs": [],
   "source": []
  }
 ],
 "metadata": {
  "kernelspec": {
   "display_name": "Go (lgo)",
   "language": "go",
   "name": "lgo"
  },
  "language_info": {
   "file_extension": "",
   "mimetype": "",
   "name": "go",
   "version": ""
  }
 },
 "nbformat": 4,
 "nbformat_minor": 2
}
