{
 "cells": [
  {
   "cell_type": "markdown",
   "metadata": {},
   "source": [
    "[Go Exercism](https://exercism.io/my/tracks/go)"
   ]
  },
  {
   "cell_type": "markdown",
   "metadata": {},
   "source": [
    "### two-fer"
   ]
  },
  {
   "cell_type": "code",
   "execution_count": 30,
   "metadata": {},
   "outputs": [],
   "source": [
    "import ( \n",
    "    \"fmt\"\n",
    "    \"strings\"\n",
    ")"
   ]
  },
  {
   "cell_type": "code",
   "execution_count": 31,
   "metadata": {},
   "outputs": [],
   "source": [
    "func ShareWith(name string) string {\n",
    "    X := \"you\"\n",
    "    if name = strings.TrimSpace(name); name != \"\" {\n",
    "        X = name\n",
    "    }\n",
    "    return fmt.Sprintf(\"One for %s, one for me.\", X)\n",
    "}"
   ]
  },
  {
   "cell_type": "code",
   "execution_count": 32,
   "metadata": {},
   "outputs": [
    {
     "name": "stdout",
     "output_type": "stream",
     "text": [
      "One for you, one for me.\n"
     ]
    }
   ],
   "source": [
    "ShareWith(\"\\t\")"
   ]
  },
  {
   "cell_type": "code",
   "execution_count": 33,
   "metadata": {},
   "outputs": [
    {
     "name": "stdout",
     "output_type": "stream",
     "text": [
      "One for Exercism, one for me.\n"
     ]
    }
   ],
   "source": [
    "ShareWith(\"Exercism\")"
   ]
  },
  {
   "cell_type": "code",
   "execution_count": 10,
   "metadata": {},
   "outputs": [],
   "source": [
    "func ShareWith1(name string) string {\n",
    "    X := \"you\"\n",
    "    if name != \"\" {\n",
    "        X = name\n",
    "    }\n",
    "    return \"One for \" + X + \", one for me.\"\n",
    "}"
   ]
  },
  {
   "cell_type": "code",
   "execution_count": 11,
   "metadata": {},
   "outputs": [
    {
     "name": "stdout",
     "output_type": "stream",
     "text": [
      "One for  , one for me.\n"
     ]
    }
   ],
   "source": [
    "ShareWith1(\" \")"
   ]
  },
  {
   "cell_type": "code",
   "execution_count": 25,
   "metadata": {},
   "outputs": [
    {
     "name": "stdout",
     "output_type": "stream",
     "text": [
      "Achtung\n"
     ]
    }
   ],
   "source": [
    "strings.TrimSpace(\" Achtung  \")"
   ]
  },
  {
   "cell_type": "code",
   "execution_count": 60,
   "metadata": {},
   "outputs": [],
   "source": [
    "func ShareWith2(name string) string {\n",
    "    if name = strings.TrimSpace(name); name == \"\" {\n",
    "        name = \"you\"\n",
    "    }\n",
    "    return fmt.Sprintf(\"One for %s, one for me.\", name)\n",
    "}"
   ]
  },
  {
   "cell_type": "code",
   "execution_count": 63,
   "metadata": {},
   "outputs": [
    {
     "name": "stdout",
     "output_type": "stream",
     "text": [
      "One for Mentor, one for me.\n"
     ]
    }
   ],
   "source": [
    "ShareWith2(\"Mentor\")"
   ]
  },
  {
   "cell_type": "markdown",
   "metadata": {},
   "source": [
    "### hamming\n",
    "\n",
    "https://exercism.io/my/solutions/a2892c33ef3c4adbade11e76b90dc834"
   ]
  },
  {
   "cell_type": "code",
   "execution_count": 59,
   "metadata": {},
   "outputs": [],
   "source": [
    "import \"errors\"\n",
    "\n",
    "func Distance(a, b string) (int, error) {\n",
    "    if len(a) != len(b) {\n",
    "        return -1, errors.New(\"input lengths mismatch\")\n",
    "    }\n",
    "    \n",
    "    dif := 0\n",
    "    for i := 0; i < len(a); i++ {\n",
    "        if a[i] != b[i] {\n",
    "            dif += 1\n",
    "        }\n",
    "    }\n",
    "    \n",
    "    return dif, nil\n",
    "}\n"
   ]
  },
  {
   "cell_type": "code",
   "execution_count": 39,
   "metadata": {},
   "outputs": [],
   "source": [
    "a,b := \"ABC\", \"ABD\""
   ]
  },
  {
   "cell_type": "code",
   "execution_count": 40,
   "metadata": {},
   "outputs": [
    {
     "name": "stdout",
     "output_type": "stream",
     "text": [
      "3\n",
      "2\n",
      "<nil>\n"
     ]
    }
   ],
   "source": [
    "fmt.Println(len(a))"
   ]
  },
  {
   "cell_type": "code",
   "execution_count": 45,
   "metadata": {},
   "outputs": [
    {
     "name": "stdout",
     "output_type": "stream",
     "text": [
      "65\n"
     ]
    }
   ],
   "source": [
    "a[0]"
   ]
  },
  {
   "cell_type": "code",
   "execution_count": 48,
   "metadata": {},
   "outputs": [
    {
     "name": "stdout",
     "output_type": "stream",
     "text": [
      "65\n",
      "66\n",
      "67\n"
     ]
    }
   ],
   "source": [
    "for i := 0; i < len(a); i++ {\n",
    "    fmt.Println(a[i])\n",
    "}"
   ]
  },
  {
   "cell_type": "code",
   "execution_count": 54,
   "metadata": {},
   "outputs": [
    {
     "name": "stdout",
     "output_type": "stream",
     "text": [
      "-1\n",
      "input lengths mismatch\n"
     ]
    }
   ],
   "source": [
    "Distance(a,a+b)"
   ]
  },
  {
   "cell_type": "markdown",
   "metadata": {},
   "source": [
    "### Proverb"
   ]
  },
  {
   "cell_type": "code",
   "execution_count": 10,
   "metadata": {},
   "outputs": [],
   "source": [
    "import (\n",
    "    \"fmt\"\n",
    ")"
   ]
  },
  {
   "cell_type": "code",
   "execution_count": 35,
   "metadata": {},
   "outputs": [],
   "source": [
    "rhyme := []string{\"nail\", \"shoe\", \"horse\", \"rider\", \"message\", \"battle\", \"kingdom\"}"
   ]
  },
  {
   "cell_type": "code",
   "execution_count": null,
   "metadata": {},
   "outputs": [],
   "source": [
    "var sent string"
   ]
  },
  {
   "cell_type": "code",
   "execution_count": 47,
   "metadata": {},
   "outputs": [],
   "source": [
    "sentences := []string{}\n",
    "\n",
    "for i := 0; i < len(rhyme); i++ {\n",
    "    if i < len(rhyme) - 1 {\n",
    "        sentences = append(sentences,fmt.Sprintf(\"For want of a %s the %s was lost.\\n\", rhyme[i], rhyme[i+1]))\n",
    "    } else {\n",
    "        sentences = append(sentences,fmt.Sprintf(\"And all for the want of a %s.\\n\", rhyme[0]))\n",
    "    }\n",
    "}"
   ]
  },
  {
   "cell_type": "code",
   "execution_count": 48,
   "metadata": {},
   "outputs": [
    {
     "name": "stdout",
     "output_type": "stream",
     "text": [
      "[For want of a nail the shoe was lost.\n",
      " For want of a shoe the horse was lost.\n",
      " For want of a horse the rider was lost.\n",
      " For want of a rider the message was lost.\n",
      " For want of a message the battle was lost.\n",
      " For want of a battle the kingdom was lost.\n",
      " And all for the want of a nail.\n",
      "]\n"
     ]
    }
   ],
   "source": [
    "sentences"
   ]
  },
  {
   "cell_type": "code",
   "execution_count": 62,
   "metadata": {},
   "outputs": [],
   "source": [
    "func Proverb(rhyme []string) []string {\n",
    "\tsent, sentences := \"\", []string{}\n",
    "    templates := []string{\"For want of a %s the %s was lost.\", \n",
    "                          \"And all for the want of a %s.\"}\n",
    "    for i := range rhyme {\n",
    "\t\tif i < len(rhyme) - 1 {\n",
    "\t\t\tsent = fmt.Sprintf(templates[0], rhyme[i], rhyme[i+1])\n",
    "\t\t} else {\n",
    "\t\t\tsent = fmt.Sprintf(templates[1], rhyme[0])\n",
    "\t\t}\n",
    "\t\tsentences = append(sentences, sent)\n",
    "\t}\t\n",
    "\treturn sentences\n",
    "}"
   ]
  },
  {
   "cell_type": "code",
   "execution_count": 63,
   "metadata": {},
   "outputs": [
    {
     "name": "stdout",
     "output_type": "stream",
     "text": [
      "[For want of a nail the shoe was lost. For want of a shoe the horse was lost. For want of a horse the rider was lost. For want of a rider the message was lost. For want of a message the battle was lost. For want of a battle the kingdom was lost. And all for the want of a nail.]\n"
     ]
    }
   ],
   "source": [
    "Proverb(rhyme)"
   ]
  },
  {
   "cell_type": "code",
   "execution_count": 57,
   "metadata": {},
   "outputs": [
    {
     "name": "stdout",
     "output_type": "stream",
     "text": [
      "7\n",
      "2\n",
      "<nil>\n"
     ]
    }
   ],
   "source": [
    "fmt.Println(len(Proverb(rhyme)))"
   ]
  },
  {
   "cell_type": "code",
   "execution_count": 28,
   "metadata": {},
   "outputs": [
    {
     "name": "stdout",
     "output_type": "stream",
     "text": [
      "Hello world\n"
     ]
    }
   ],
   "source": [
    "fmt.Sprintf(\"Hello %s\", \"world\")"
   ]
  },
  {
   "cell_type": "code",
   "execution_count": 81,
   "metadata": {},
   "outputs": [],
   "source": [
    "import (\n",
    "    \"fmt\"\n",
    "    \"math\"\n",
    "    \"sort\"\n",
    ")"
   ]
  },
  {
   "cell_type": "code",
   "execution_count": 107,
   "metadata": {},
   "outputs": [],
   "source": [
    "func factors1(N int) []int {\n",
    "    m_fact := map[int]int{1:1, N:1}\n",
    "    for i := 2; i < int(math.Sqrt(float64(N))) + 2; i++ {\n",
    "        if N % i == 0 {\n",
    "            m_fact[i] = 1\n",
    "            m_fact[int(N/i)] = 1\n",
    "        }\n",
    "    }\n",
    "    keys := make([]int, len(m_fact))\n",
    "    i := 0\n",
    "    for key, _ := range m_fact {\n",
    "        keys[i] = key\n",
    "        i++\n",
    "    }\n",
    "    return keys\n",
    "}"
   ]
  },
  {
   "cell_type": "code",
   "execution_count": 110,
   "metadata": {},
   "outputs": [],
   "source": [
    "func factors2(N int) map[int]int {\n",
    "    m_fact := map[int]int{1:1, N:1}\n",
    "    for i := 2; i < int(math.Sqrt(float64(N))) + 1; i++ {\n",
    "        if N % i == 0 {\n",
    "            m_fact[i] = 1\n",
    "            m_fact[int(N/i)] = 1\n",
    "        }\n",
    "    }\n",
    "    return m_fact\n",
    "}"
   ]
  },
  {
   "cell_type": "code",
   "execution_count": 108,
   "metadata": {},
   "outputs": [],
   "source": [
    "func factors(N int) []int {\n",
    "    facts := []int{}\n",
    "    j := 0\n",
    "    for i := 1; i < int(math.Sqrt(float64(N))) + 1; i++ {\n",
    "        if N % i == 0 {\n",
    "            facts = append(facts, i)\n",
    "            j = int(N/i)\n",
    "            if i != j {\n",
    "                facts = append(facts, j)\n",
    "            }\n",
    "        }\n",
    "    }\n",
    "    sort.Ints(facts)\n",
    "    return facts\n",
    "}"
   ]
  },
  {
   "cell_type": "code",
   "execution_count": 111,
   "metadata": {},
   "outputs": [
    {
     "name": "stdout",
     "output_type": "stream",
     "text": [
      "map[1:1 100:1 2:1 4:1 50:1 25:1 5:1 20:1 10:1]\n",
      "47\n",
      "<nil>\n"
     ]
    }
   ],
   "source": [
    "fmt.Println(factors2(100))"
   ]
  },
  {
   "cell_type": "code",
   "execution_count": 149,
   "metadata": {},
   "outputs": [],
   "source": [
    "m_word := map[int]string{3:\"Pling\", 5:\"Plang\", 7:\"Plong\"}"
   ]
  },
  {
   "cell_type": "code",
   "execution_count": 137,
   "metadata": {},
   "outputs": [
    {
     "name": "stdout",
     "output_type": "stream",
     "text": [
      "3 Pling\n",
      "5 Plang\n",
      "7 Plong\n",
      "PlingPlong\n"
     ]
    }
   ],
   "source": [
    "N := 21\n",
    "m_factor := factors2(N)\n",
    "\n",
    "out := \"\"\n",
    "for k,v := range m_word {\n",
    "    fmt.Println(k,v)\n",
    "    if _, ok := m_factor[k]; ok {\n",
    "        out += v\n",
    "    }\n",
    "}\n",
    "if out == \"\" {\n",
    "    out = fmt.Sprintf(\"%d\",N)\n",
    "}\n",
    "\n",
    "out"
   ]
  },
  {
   "cell_type": "code",
   "execution_count": 141,
   "metadata": {},
   "outputs": [],
   "source": [
    "s := m_word[3]"
   ]
  },
  {
   "cell_type": "code",
   "execution_count": 142,
   "metadata": {},
   "outputs": [
    {
     "name": "stdout",
     "output_type": "stream",
     "text": [
      "Pling\n"
     ]
    }
   ],
   "source": [
    "s"
   ]
  },
  {
   "cell_type": "code",
   "execution_count": 143,
   "metadata": {},
   "outputs": [],
   "source": [
    "m_int := map[int]int{3:1, 5:1}"
   ]
  },
  {
   "cell_type": "code",
   "execution_count": 145,
   "metadata": {},
   "outputs": [
    {
     "name": "stdout",
     "output_type": "stream",
     "text": [
      "0\n",
      "2\n",
      "<nil>\n"
     ]
    }
   ],
   "source": [
    "fmt.Println(m_int[1])"
   ]
  },
  {
   "cell_type": "code",
   "execution_count": 180,
   "metadata": {},
   "outputs": [],
   "source": [
    "import  ( \n",
    "    \"fmt\"\n",
    "    \"strings\"\n",
    ")"
   ]
  },
  {
   "cell_type": "code",
   "execution_count": 181,
   "metadata": {},
   "outputs": [],
   "source": [
    "mStringScore := map[string]int{\n",
    "    \"A, E, I, O, U, L, N, R, S, T\" :       1,\n",
    "    \"D, G\" :                               2,\n",
    "    \"B, C, M, P\" :                         3,\n",
    "    \"F, H, V, W, Y\" :                      4,\n",
    "    \"K\" :                                  5,\n",
    "    \"J, X\" :                               8,\n",
    "    \"Q, Z\" :                               10}\n"
   ]
  },
  {
   "cell_type": "code",
   "execution_count": 182,
   "metadata": {},
   "outputs": [],
   "source": [
    "mLetterScore := map[string]int{}"
   ]
  },
  {
   "cell_type": "code",
   "execution_count": 183,
   "metadata": {},
   "outputs": [],
   "source": [
    "for k,v := range mStringScore {\n",
    "    //fmt.Println(k,v)\n",
    "    for _, i := range strings.Split(k, \",\") {\n",
    "        mLetterScore[strings.TrimSpace(i)] = v\n",
    "    }\n",
    "}"
   ]
  },
  {
   "cell_type": "code",
   "execution_count": 185,
   "metadata": {},
   "outputs": [],
   "source": [
    "for k,v := range mStringScore {\n",
    "    //fmt.Println(k,v)\n",
    "    for _, i := range strings.Split(k, \",\") {\n",
    "        mStringScore[strings.TrimSpace(i)] = v\n",
    "    }\n",
    "}"
   ]
  },
  {
   "cell_type": "code",
   "execution_count": 187,
   "metadata": {},
   "outputs": [
    {
     "name": "stdout",
     "output_type": "stream",
     "text": [
      "A 1\n",
      "L 1\n",
      "T 1\n",
      "Z 10\n",
      "U 1\n",
      "R 1\n",
      "N 1\n",
      "B 3\n",
      "M 3\n",
      "P 3\n",
      "Q 10\n",
      "Y 4\n",
      "I 1\n",
      "O 1\n",
      "F 4\n",
      "H 4\n",
      "E 1\n",
      "D 2\n",
      "G 2\n",
      "C 3\n",
      "X 8\n",
      "K 5\n",
      "S 1\n",
      "V 4\n",
      "W 4\n",
      "J 8\n"
     ]
    }
   ],
   "source": [
    "for k,v := range mStringScore {\n",
    "    if len(k) > 1 {\n",
    "       delete(mStringScore, k) \n",
    "    } else {\n",
    "        fmt.Println(k,v)\n",
    "    }\n",
    "}"
   ]
  },
  {
   "cell_type": "code",
   "execution_count": 188,
   "metadata": {},
   "outputs": [
    {
     "name": "stdout",
     "output_type": "stream",
     "text": [
      "map[A:1 L:1 T:1 Z:10 U:1 R:1 N:1 B:3 M:3 P:3 Q:10 I:1 O:1 F:4 H:4 Y:4 E:1 D:2 G:2 C:3 X:8 K:5 S:1 V:4 W:4 J:8]\n",
      "111\n",
      "<nil>\n"
     ]
    }
   ],
   "source": [
    "fmt.Println(mStringScore)"
   ]
  },
  {
   "cell_type": "code",
   "execution_count": 171,
   "metadata": {},
   "outputs": [],
   "source": [
    "func Scrabble(word string) int {\n",
    "    score := 0\n",
    "    word = strings.ToUpper(word)\n",
    "    for _, c := range word {\n",
    "        score += mLetterScore[string(c)]\n",
    "    }\n",
    "    return score\n",
    "}"
   ]
  },
  {
   "cell_type": "code",
   "execution_count": 172,
   "metadata": {},
   "outputs": [
    {
     "name": "stdout",
     "output_type": "stream",
     "text": [
      "14\n",
      "3\n",
      "<nil>\n"
     ]
    }
   ],
   "source": [
    "fmt.Println(Scrabble(\"cabbage\"))"
   ]
  },
  {
   "cell_type": "code",
   "execution_count": 178,
   "metadata": {},
   "outputs": [
    {
     "name": "stdout",
     "output_type": "stream",
     "text": [
      "0\n",
      "2\n",
      "<nil>\n"
     ]
    }
   ],
   "source": [
    "fmt.Println(Scrabble(\"美国\"))"
   ]
  },
  {
   "cell_type": "code",
   "execution_count": 173,
   "metadata": {},
   "outputs": [
    {
     "name": "stdout",
     "output_type": "stream",
     "text": [
      "U+65E5 '日' starts at byte position 0\n",
      "U+672C '本' starts at byte position 3\n",
      "U+8A9E '語' starts at byte position 6\n"
     ]
    }
   ],
   "source": [
    "const nihongo = \"日本語\"\n",
    "for index, runeValue := range nihongo {\n",
    "    fmt.Printf(\"%#U starts at byte position %d\\n\", runeValue, index)\n",
    "}"
   ]
  },
  {
   "cell_type": "code",
   "execution_count": 177,
   "metadata": {},
   "outputs": [
    {
     "name": "stdout",
     "output_type": "stream",
     "text": [
      "U+65E5 '日' starts at byte position 0\n",
      "U+672C '本' starts at byte position 3\n",
      "U+8A9E '語' starts at byte position 6\n"
     ]
    }
   ],
   "source": [
    "import \"unicode/utf8\"\n",
    "const nihongo = \"日本語\"\n",
    "for i, w := 0, 0; i < len(nihongo); i += w {\n",
    "    runeValue, width := utf8.DecodeRuneInString(nihongo[i:])\n",
    "    fmt.Printf(\"%#U starts at byte position %d\\n\", runeValue, i)\n",
    "    w = width\n",
    "}"
   ]
  },
  {
   "cell_type": "code",
   "execution_count": 189,
   "metadata": {},
   "outputs": [],
   "source": [
    "var mStringScore map[string]int"
   ]
  },
  {
   "cell_type": "code",
   "execution_count": 190,
   "metadata": {},
   "outputs": [
    {
     "name": "stderr",
     "output_type": "stream",
     "text": [
      "1:16: expected operand, found '{'\n"
     ]
    }
   ],
   "source": [
    "mStringScore = {\"TEST\" : 100}"
   ]
  },
  {
   "cell_type": "code",
   "execution_count": 191,
   "metadata": {},
   "outputs": [],
   "source": [
    "var mScore map[string]int = map[string]int{\n",
    "    \"A, E, I, O, U, L, N, R, S, T\": 1,\n",
    "    \"D, G\":          2,\n",
    "    \"B, C, M, P\":    3,\n",
    "    \"F, H, V, W, Y\": 4,\n",
    "    \"K\":             5,\n",
    "    \"J, X\":          8,\n",
    "    \"Q, Z\":          10}"
   ]
  },
  {
   "cell_type": "code",
   "execution_count": 194,
   "metadata": {},
   "outputs": [],
   "source": [
    "func defineMap() {\n",
    "\tfor k, v := range mScore {\n",
    "\t\t//fmt.Println(k,v)\n",
    "\t\tfor _, i := range strings.Split(k, \",\") {\n",
    "\t\t\tmScore[strings.TrimSpace(i)] = v\n",
    "\t\t}\n",
    "\t}\n",
    "    // remove initial entry\n",
    "    for k,v := range mScore {\n",
    "        if len(k) > 1 {\n",
    "           delete(mScore, k) \n",
    "        } else {\n",
    "            fmt.Println(k,v)\n",
    "        }\n",
    "    }\n",
    "}"
   ]
  },
  {
   "cell_type": "code",
   "execution_count": 195,
   "metadata": {},
   "outputs": [
    {
     "name": "stdout",
     "output_type": "stream",
     "text": [
      "B 3\n",
      "Y 4\n",
      "J 8\n",
      "U 1\n",
      "N 1\n",
      "H 4\n",
      "W 4\n",
      "E 1\n",
      "O 1\n",
      "X 8\n",
      "L 1\n",
      "S 1\n",
      "K 5\n",
      "G 2\n",
      "M 3\n",
      "V 4\n",
      "I 1\n",
      "F 4\n",
      "Z 10\n",
      "T 1\n",
      "A 1\n",
      "R 1\n",
      "Q 10\n",
      "D 2\n",
      "C 3\n",
      "P 3\n"
     ]
    }
   ],
   "source": [
    "defineMap()"
   ]
  },
  {
   "cell_type": "code",
   "execution_count": 4,
   "metadata": {},
   "outputs": [],
   "source": [
    "import \"unicode\"\n",
    "import \"fmt\""
   ]
  },
  {
   "cell_type": "code",
   "execution_count": 16,
   "metadata": {},
   "outputs": [],
   "source": [
    "func IsIsogram(word string) bool {\n",
    "    var mDup = map[rune]int{}\n",
    "    for _, c := range word {\n",
    "        c = unicode.ToUpper(c)\n",
    "        if c == ' ' || c == '-' {\n",
    "            continue\n",
    "        }\n",
    "        mDup[c]++\n",
    "        if mDup[c] > 1 {\n",
    "            return false\n",
    "        }\n",
    "    }\n",
    "    return true\n",
    "}"
   ]
  },
  {
   "cell_type": "code",
   "execution_count": 17,
   "metadata": {},
   "outputs": [
    {
     "name": "stdout",
     "output_type": "stream",
     "text": [
      "true\n",
      "5\n",
      "<nil>\n"
     ]
    }
   ],
   "source": [
    "fmt.Println(IsIsogram(\"An bel\"))"
   ]
  },
  {
   "cell_type": "code",
   "execution_count": 5,
   "metadata": {},
   "outputs": [],
   "source": [
    "import \"regexp\""
   ]
  },
  {
   "cell_type": "code",
   "execution_count": 6,
   "metadata": {},
   "outputs": [],
   "source": [
    "import \"fmt\""
   ]
  },
  {
   "cell_type": "code",
   "execution_count": null,
   "metadata": {},
   "outputs": [],
   "source": [
    "import \"strings\""
   ]
  },
  {
   "cell_type": "code",
   "execution_count": 22,
   "metadata": {},
   "outputs": [],
   "source": [
    "import \"strconv\""
   ]
  },
  {
   "cell_type": "code",
   "execution_count": 3,
   "metadata": {},
   "outputs": [],
   "source": [
    "r, _ := regexp.Compile(\"[\\\\D]\")"
   ]
  },
  {
   "cell_type": "code",
   "execution_count": 50,
   "metadata": {},
   "outputs": [],
   "source": [
    "s := \"4539 1488 0343 6467\""
   ]
  },
  {
   "cell_type": "code",
   "execution_count": 51,
   "metadata": {},
   "outputs": [],
   "source": [
    "s = r.ReplaceAllString(s, \"\")"
   ]
  },
  {
   "cell_type": "code",
   "execution_count": 52,
   "metadata": {},
   "outputs": [
    {
     "name": "stdout",
     "output_type": "stream",
     "text": [
      "4539148803436467\n",
      "17\n",
      "<nil>\n"
     ]
    }
   ],
   "source": [
    "fmt.Println(s)"
   ]
  },
  {
   "cell_type": "code",
   "execution_count": 53,
   "metadata": {},
   "outputs": [],
   "source": [
    "var n, sm int"
   ]
  },
  {
   "cell_type": "code",
   "execution_count": 54,
   "metadata": {},
   "outputs": [
    {
     "name": "stdout",
     "output_type": "stream",
     "text": [
      "7\n",
      "4\n",
      "3\n",
      "3\n",
      "8\n",
      "4\n",
      "9\n",
      "5\n"
     ]
    }
   ],
   "source": [
    "for i:=len(s)-1; i > -1; i -= 2 {\n",
    "    fmt.Println(int(s[i] - '0'))\n",
    "    n := int(s[i] - '0')\n",
    "    sm += n\n",
    "}"
   ]
  },
  {
   "cell_type": "code",
   "execution_count": 55,
   "metadata": {},
   "outputs": [
    {
     "name": "stdout",
     "output_type": "stream",
     "text": [
      "43\n",
      "3\n",
      "<nil>\n"
     ]
    }
   ],
   "source": [
    "fmt.Println(sm)"
   ]
  },
  {
   "cell_type": "code",
   "execution_count": 56,
   "metadata": {},
   "outputs": [
    {
     "name": "stdout",
     "output_type": "stream",
     "text": [
      "6\n",
      "6\n",
      "4\n",
      "0\n",
      "8\n",
      "1\n",
      "3\n",
      "4\n"
     ]
    }
   ],
   "source": [
    "for i:=len(s)-2; i > -1; i -= 2 {\n",
    "    fmt.Println(int(s[i] - '0'))\n",
    "    n := 2*int(s[i] - '0')\n",
    "    if n > 9 {\n",
    "        n -= 9\n",
    "    }\n",
    "    sm += n\n",
    "}"
   ]
  },
  {
   "cell_type": "code",
   "execution_count": 57,
   "metadata": {},
   "outputs": [
    {
     "name": "stdout",
     "output_type": "stream",
     "text": [
      "80\n",
      "3\n",
      "<nil>\n"
     ]
    }
   ],
   "source": [
    "fmt.Println(sm)"
   ]
  },
  {
   "cell_type": "code",
   "execution_count": null,
   "metadata": {},
   "outputs": [],
   "source": [
    "if sm%10 == 0 {\n",
    "    return true\n",
    "} else {\n",
    "    return false\n",
    "}"
   ]
  },
  {
   "cell_type": "code",
   "execution_count": 1,
   "metadata": {},
   "outputs": [],
   "source": [
    "import \"fmt\""
   ]
  },
  {
   "cell_type": "code",
   "execution_count": 6,
   "metadata": {},
   "outputs": [],
   "source": [
    "var s string\n",
    "s  = fmt.Sprintf(\"%d:%d\", 10,10)"
   ]
  },
  {
   "cell_type": "code",
   "execution_count": 71,
   "metadata": {},
   "outputs": [],
   "source": [
    "//package parallel\n",
    "import (\n",
    "    \"fmt\"\n",
    "    \"unicode\"\n",
    ")\n",
    "\n",
    "func parallelLetter(sentence string, nsplit int) map[rune]int {\n",
    "\n",
    "\tresChan := make(chan map[rune]int)\n",
    "    \n",
    "    for n, chunk := range splitN(sentence, nsplit) {\n",
    "        fmt.Println(n,\",\",chunk)\n",
    "\t\tgo func(s string) {\n",
    "            fmt.Println(\"s=\", s)\n",
    "\t\t\tm := make(map[rune]int)\n",
    "\t\t\tfor _, c := range s {\n",
    "\t\t\t\tif unicode.IsLetter(c) {\n",
    "\t\t\t\t\tm[unicode.ToUpper(c)]++\n",
    "\t\t\t\t}\n",
    "\t\t\t}\n",
    "\t\t\tresChan <- m\n",
    "\t\t}(chunk)\n",
    "\t}\n",
    "\n",
    "    mResult := make(map[rune]int)\n",
    "\tfor i := 0; i < nsplit; i++ {\n",
    "        m := <-resChan\n",
    "        fmt.Println(m)\n",
    "        for k, v := range m {\n",
    "            fmt.Println(k,v)\n",
    "            mResult[k] += v\n",
    "        }\n",
    "        fmt.Println(mResult)\n",
    "\t}\n",
    "\treturn mResult\n",
    "}"
   ]
  },
  {
   "cell_type": "code",
   "execution_count": 73,
   "metadata": {},
   "outputs": [
    {
     "name": "stdout",
     "output_type": "stream",
     "text": [
      "0 , abc  \n",
      "1 , efg\n",
      "s= efg\n",
      "map[69:1 70:1 71:1]\n",
      "69 1\n",
      "70 1\n",
      "71 1\n",
      "map[69:1 70:1 71:1]\n",
      "s= efg\n",
      "map[70:1 71:1 69:1]\n",
      "71 1\n",
      "69 1\n",
      "70 1\n",
      "map[69:2 70:2 71:2]\n",
      "map[71:2 69:2 70:2]\n"
     ]
    }
   ],
   "source": [
    "parallelLetter(\"abc  efg\", 2)"
   ]
  },
  {
   "cell_type": "markdown",
   "metadata": {},
   "source": [
    "this is wrong\n",
    "\n",
    "\"go run\" gives correct answer"
   ]
  },
  {
   "cell_type": "code",
   "execution_count": 63,
   "metadata": {},
   "outputs": [
    {
     "name": "stdout",
     "output_type": "stream",
     "text": [
      "abc  efg\n",
      "map[69:1 70:1 71:1 65:1 66:1 67:1]\n",
      "66 1\n",
      "67 1\n",
      "69 1\n",
      "70 1\n",
      "71 1\n",
      "65 1\n",
      "map[65:1 66:1 67:1 69:1 70:1 71:1]\n",
      "map[69:1 70:1 71:1 65:1 66:1 67:1]\n",
      "35\n",
      "<nil>\n"
     ]
    }
   ],
   "source": [
    "fmt.Println(parallelLetter(\"abc  efg\", 1))"
   ]
  },
  {
   "cell_type": "code",
   "execution_count": 36,
   "metadata": {},
   "outputs": [],
   "source": [
    "//package parallel\n",
    "import (\n",
    "    \"fmt\"\n",
    "    \"unicode\"\n",
    ")\n",
    "\n",
    "func parallelLetter1(sentence string) map[rune]int {\n",
    "\n",
    "\tresChan := make(chan map[rune]int)\n",
    "\n",
    "    go func(s string) {\n",
    "        m := make(map[rune]int)\n",
    "        for _, c := range s {\n",
    "            if unicode.IsLetter(c) {\n",
    "                m[unicode.ToUpper(c)]++\n",
    "            }\n",
    "        }\n",
    "        resChan <- m\n",
    "    }(sentence)\n",
    "\n",
    "\n",
    "\tmResult := <-resChan\n",
    "\treturn mResult\n",
    "}"
   ]
  },
  {
   "cell_type": "code",
   "execution_count": 38,
   "metadata": {},
   "outputs": [
    {
     "name": "stdout",
     "output_type": "stream",
     "text": [
      "map[65:3 66:2 67:1 68:1]\n",
      "25\n",
      "<nil>\n"
     ]
    }
   ],
   "source": [
    "fmt.Println(parallelLetter1(\"abcd   ba  a\"))"
   ]
  },
  {
   "cell_type": "code",
   "execution_count": 40,
   "metadata": {},
   "outputs": [],
   "source": [
    "func splitN(s string, N int) []string {\n",
    "    chunkSize := int(len(s)/N) + 1\n",
    "    var s2 []string\n",
    "    for i := 0; i < N-1; i++ {\n",
    "        s2 = append(s2, s[i*chunkSize:(i+1)*chunkSize])\n",
    "    }\n",
    "    s2 = append(s2, s[(N-1)*chunkSize:])\n",
    "    return s2\n",
    "        \n",
    "}"
   ]
  },
  {
   "cell_type": "code",
   "execution_count": 45,
   "metadata": {},
   "outputs": [
    {
     "name": "stdout",
     "output_type": "stream",
     "text": [
      "[s2, s[i*chun kSize:(i+1)* chunkSize])]\n",
      "40\n",
      "<nil>\n"
     ]
    }
   ],
   "source": [
    "fmt.Println(splitN(\"s2, s[i*chunkSize:(i+1)*chunkSize])\", 3))"
   ]
  },
  {
   "cell_type": "code",
   "execution_count": null,
   "metadata": {},
   "outputs": [],
   "source": []
  }
 ],
 "metadata": {
  "kernelspec": {
   "display_name": "Go (lgo)",
   "language": "go",
   "name": "lgo"
  },
  "language_info": {
   "file_extension": "",
   "mimetype": "",
   "name": "go",
   "version": ""
  }
 },
 "nbformat": 4,
 "nbformat_minor": 2
}
