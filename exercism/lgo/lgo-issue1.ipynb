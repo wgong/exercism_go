{
 "cells": [
  {
   "cell_type": "markdown",
   "metadata": {},
   "source": [
    "Raised an issue\n",
    "\n",
    "https://github.com/yunabe/lgo/issues/73"
   ]
  },
  {
   "cell_type": "code",
   "execution_count": 8,
   "metadata": {},
   "outputs": [],
   "source": [
    "import \"fmt\""
   ]
  },
  {
   "cell_type": "code",
   "execution_count": 9,
   "metadata": {},
   "outputs": [
    {
     "name": "stdout",
     "output_type": "stream",
     "text": [
      "w= hello\n",
      "w= golang\n"
     ]
    }
   ],
   "source": [
    "words := []string{\"hello\", \"golang\"}\n",
    "\n",
    "for _, w := range words {\n",
    "    fmt.Println(\"w=\",w)\n",
    "}"
   ]
  },
  {
   "cell_type": "code",
   "execution_count": 10,
   "metadata": {},
   "outputs": [
    {
     "name": "stdout",
     "output_type": "stream",
     "text": [
      "s= golang\n",
      "w= golang\n",
      "s= golang\n",
      "w= golang\n"
     ]
    }
   ],
   "source": [
    "wchan := make(chan string, len(words))\n",
    "\n",
    "for _, w := range words {\n",
    "    go func(s string) {\n",
    "        fmt.Println(\"s=\",s)\n",
    "        wchan <- s\n",
    "    }(w)\n",
    "}\n",
    "\n",
    "for range words {\n",
    "    fmt.Println(\"w=\",<-wchan)\n",
    "}"
   ]
  },
  {
   "cell_type": "code",
   "execution_count": 11,
   "metadata": {},
   "outputs": [],
   "source": [
    "func main() {\n",
    "\n",
    "        words := []string{\"hello\", \"golang\"}\n",
    "\n",
    "        for _, w := range words {\n",
    "                fmt.Println(\"w=\", w)\n",
    "        }\n",
    "\n",
    "        // issue: string w inside go func not updated\n",
    "\n",
    "        wchan := make(chan string, len(words))\n",
    "        for _, w := range words {\n",
    "                go func(s string) {\n",
    "                        fmt.Println(\"s=\", s)\n",
    "                        wchan <- s\n",
    "                }(w)\n",
    "        }\n",
    "\n",
    "        for range words {\n",
    "                fmt.Println(\"w=\", <-wchan)\n",
    "        }\n",
    "}\n"
   ]
  },
  {
   "cell_type": "code",
   "execution_count": 12,
   "metadata": {},
   "outputs": [
    {
     "name": "stdout",
     "output_type": "stream",
     "text": [
      "w= hello\n",
      "w= golang\n",
      "s= golang\n",
      "w= golang\n",
      "s= golang\n",
      "w= golang\n"
     ]
    }
   ],
   "source": [
    "main()"
   ]
  },
  {
   "cell_type": "code",
   "execution_count": null,
   "metadata": {},
   "outputs": [],
   "source": []
  }
 ],
 "metadata": {
  "kernelspec": {
   "display_name": "Go (lgo)",
   "language": "go",
   "name": "lgo"
  },
  "language_info": {
   "file_extension": "",
   "mimetype": "",
   "name": "go",
   "version": ""
  }
 },
 "nbformat": 4,
 "nbformat_minor": 2
}
