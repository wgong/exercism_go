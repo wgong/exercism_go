{
 "cells": [
  {
   "cell_type": "markdown",
   "metadata": {},
   "source": [
    "### [Stack](https://www.wikiwand.com/simple/Stack_(data_structure))"
   ]
  },
  {
   "cell_type": "code",
   "execution_count": 1,
   "metadata": {},
   "outputs": [
    {
     "name": "stderr",
     "output_type": "stream",
     "text": [
      "found packages not installed in LGOPATH: [github.com/emirpasic/gods/stacks/linkedliststack]\n",
      "(1/6) installed \"github.com/emirpasic/gods/utils\"\n",
      "(2/6) installed \"github.com/emirpasic/gods/containers\"\n",
      "(3/6) installed \"github.com/emirpasic/gods/lists\"\n",
      "(4/6) installed \"github.com/emirpasic/gods/lists/singlylinkedlist\"\n",
      "(5/6) installed \"github.com/emirpasic/gods/stacks\"\n",
      "(6/6) installed \"github.com/emirpasic/gods/stacks/linkedliststack\"\n"
     ]
    }
   ],
   "source": [
    "import (\n",
    "    \"fmt\"\n",
    "    lls \"github.com/emirpasic/gods/stacks/linkedliststack\"\n",
    ")"
   ]
  },
  {
   "cell_type": "code",
   "execution_count": 2,
   "metadata": {},
   "outputs": [],
   "source": [
    "stack := lls.New()  // empty"
   ]
  },
  {
   "cell_type": "code",
   "execution_count": 3,
   "metadata": {},
   "outputs": [],
   "source": [
    "stack.Push(1)       // 1"
   ]
  },
  {
   "cell_type": "code",
   "execution_count": 6,
   "metadata": {},
   "outputs": [
    {
     "name": "stdout",
     "output_type": "stream",
     "text": [
      "LinkedListStack\n",
      "2, 1\n"
     ]
    }
   ],
   "source": [
    "stack"
   ]
  },
  {
   "cell_type": "code",
   "execution_count": 5,
   "metadata": {},
   "outputs": [],
   "source": [
    "stack.Push(2)       // 2"
   ]
  },
  {
   "cell_type": "code",
   "execution_count": 19,
   "metadata": {},
   "outputs": [],
   "source": [
    "stack.Push(3)       // 3"
   ]
  },
  {
   "cell_type": "code",
   "execution_count": 20,
   "metadata": {},
   "outputs": [
    {
     "name": "stdout",
     "output_type": "stream",
     "text": [
      "[3]\n"
     ]
    }
   ],
   "source": [
    "stack.Values()      // 2, 1 (LIFO order)"
   ]
  },
  {
   "cell_type": "code",
   "execution_count": 8,
   "metadata": {},
   "outputs": [
    {
     "name": "stdout",
     "output_type": "stream",
     "text": [
      "LinkedListStack\n",
      "2, 1\n",
      "21\n",
      "<nil>\n"
     ]
    }
   ],
   "source": [
    "fmt.Println(stack)"
   ]
  },
  {
   "cell_type": "code",
   "execution_count": 10,
   "metadata": {},
   "outputs": [],
   "source": [
    "value, exist := stack.Peek() // 2,true"
   ]
  },
  {
   "cell_type": "code",
   "execution_count": 17,
   "metadata": {},
   "outputs": [],
   "source": [
    "value, exist = stack.Pop()  // 2, true"
   ]
  },
  {
   "cell_type": "code",
   "execution_count": 18,
   "metadata": {},
   "outputs": [
    {
     "name": "stdout",
     "output_type": "stream",
     "text": [
      "<nil> false\n",
      "12\n",
      "<nil>\n"
     ]
    }
   ],
   "source": [
    "fmt.Println(value,exist)"
   ]
  },
  {
   "cell_type": "code",
   "execution_count": 25,
   "metadata": {},
   "outputs": [
    {
     "name": "stdout",
     "output_type": "stream",
     "text": [
      "true\n",
      "5\n",
      "<nil>\n"
     ]
    }
   ],
   "source": [
    "fmt.Println(stack.Empty() )"
   ]
  },
  {
   "cell_type": "code",
   "execution_count": 24,
   "metadata": {},
   "outputs": [
    {
     "name": "stdout",
     "output_type": "stream",
     "text": [
      "0\n",
      "2\n",
      "<nil>\n"
     ]
    }
   ],
   "source": [
    "fmt.Println(stack.Size() )"
   ]
  },
  {
   "cell_type": "code",
   "execution_count": 23,
   "metadata": {},
   "outputs": [],
   "source": [
    "stack.Clear()       // empty stack"
   ]
  },
  {
   "cell_type": "code",
   "execution_count": 26,
   "metadata": {},
   "outputs": [],
   "source": [
    "import (\n",
    "\tsll \"github.com/emirpasic/gods/lists/singlylinkedlist\"\n",
    "\t\"github.com/emirpasic/gods/utils\"\n",
    ")"
   ]
  },
  {
   "cell_type": "code",
   "execution_count": 27,
   "metadata": {},
   "outputs": [],
   "source": [
    "list := sll.New()"
   ]
  },
  {
   "cell_type": "code",
   "execution_count": 28,
   "metadata": {},
   "outputs": [],
   "source": [
    "list.Add(\"a\")"
   ]
  },
  {
   "cell_type": "code",
   "execution_count": 29,
   "metadata": {},
   "outputs": [
    {
     "name": "stdout",
     "output_type": "stream",
     "text": [
      "SinglyLinkedList\n",
      "a\n"
     ]
    }
   ],
   "source": [
    "list"
   ]
  },
  {
   "cell_type": "code",
   "execution_count": 30,
   "metadata": {},
   "outputs": [],
   "source": [
    "list.Add(\"c\", \"b\")"
   ]
  },
  {
   "cell_type": "code",
   "execution_count": 31,
   "metadata": {},
   "outputs": [
    {
     "name": "stdout",
     "output_type": "stream",
     "text": [
      "SinglyLinkedList\n",
      "a, c, b\n"
     ]
    }
   ],
   "source": [
    "list"
   ]
  },
  {
   "cell_type": "code",
   "execution_count": 32,
   "metadata": {},
   "outputs": [],
   "source": [
    "list.Sort(utils.StringComparator)"
   ]
  },
  {
   "cell_type": "code",
   "execution_count": 33,
   "metadata": {},
   "outputs": [
    {
     "name": "stdout",
     "output_type": "stream",
     "text": [
      "SinglyLinkedList\n",
      "a, b, c\n"
     ]
    }
   ],
   "source": [
    "list"
   ]
  },
  {
   "cell_type": "code",
   "execution_count": 34,
   "metadata": {},
   "outputs": [
    {
     "name": "stderr",
     "output_type": "stream",
     "text": [
      "found packages not installed in LGOPATH: [github.com/emirpasic/gods/sets/hashset]\n",
      "(1/4) installed \"github.com/emirpasic/gods/utils\"\n",
      "(2/4) installed \"github.com/emirpasic/gods/containers\"\n",
      "(3/4) installed \"github.com/emirpasic/gods/sets\"\n",
      "(4/4) installed \"github.com/emirpasic/gods/sets/hashset\"\n"
     ]
    }
   ],
   "source": [
    "import \"github.com/emirpasic/gods/sets/hashset\""
   ]
  },
  {
   "cell_type": "code",
   "execution_count": 35,
   "metadata": {},
   "outputs": [],
   "source": [
    "set := hashset.New()   // empty"
   ]
  },
  {
   "cell_type": "code",
   "execution_count": 36,
   "metadata": {},
   "outputs": [],
   "source": [
    "set.Add(1)             // 1"
   ]
  },
  {
   "cell_type": "code",
   "execution_count": 37,
   "metadata": {},
   "outputs": [
    {
     "name": "stdout",
     "output_type": "stream",
     "text": [
      "HashSet\n",
      "1\n"
     ]
    }
   ],
   "source": [
    "set"
   ]
  },
  {
   "cell_type": "code",
   "execution_count": 38,
   "metadata": {},
   "outputs": [],
   "source": [
    "set.Add(2, 2, 3, 4, 5) // 3, 1, 2, 4, 5 (random order, duplicates ignored)"
   ]
  },
  {
   "cell_type": "code",
   "execution_count": 39,
   "metadata": {},
   "outputs": [
    {
     "name": "stdout",
     "output_type": "stream",
     "text": [
      "HashSet\n",
      "4, 5, 1, 2, 3\n"
     ]
    }
   ],
   "source": [
    "set"
   ]
  },
  {
   "cell_type": "code",
   "execution_count": 40,
   "metadata": {},
   "outputs": [],
   "source": [
    "set.Remove(4)          // 5, 3, 2, 1 (random order)"
   ]
  },
  {
   "cell_type": "code",
   "execution_count": 41,
   "metadata": {},
   "outputs": [],
   "source": [
    "set.Remove(44)          // 5, 3, 2, 1 (random order)"
   ]
  },
  {
   "cell_type": "code",
   "execution_count": 42,
   "metadata": {},
   "outputs": [
    {
     "name": "stdout",
     "output_type": "stream",
     "text": [
      "HashSet\n",
      "5, 1, 2, 3\n"
     ]
    }
   ],
   "source": [
    "set"
   ]
  },
  {
   "cell_type": "code",
   "execution_count": 43,
   "metadata": {},
   "outputs": [
    {
     "name": "stdout",
     "output_type": "stream",
     "text": [
      "true\n"
     ]
    }
   ],
   "source": [
    "set.Contains(1, 5)     // true"
   ]
  },
  {
   "cell_type": "code",
   "execution_count": 44,
   "metadata": {},
   "outputs": [
    {
     "name": "stdout",
     "output_type": "stream",
     "text": [
      "HashSet\n",
      "5, 1, 2, 3\n"
     ]
    }
   ],
   "source": [
    "set"
   ]
  },
  {
   "cell_type": "code",
   "execution_count": 45,
   "metadata": {},
   "outputs": [
    {
     "name": "stdout",
     "output_type": "stream",
     "text": [
      "[1 2 3 5]\n"
     ]
    }
   ],
   "source": [
    "set.Values()"
   ]
  },
  {
   "cell_type": "code",
   "execution_count": 46,
   "metadata": {},
   "outputs": [
    {
     "name": "stdout",
     "output_type": "stream",
     "text": [
      "4\n"
     ]
    }
   ],
   "source": [
    "set.Size()"
   ]
  },
  {
   "cell_type": "markdown",
   "metadata": {},
   "source": [
    "#### JSONSerializer"
   ]
  },
  {
   "cell_type": "code",
   "execution_count": 47,
   "metadata": {},
   "outputs": [
    {
     "name": "stderr",
     "output_type": "stream",
     "text": [
      "found packages not installed in LGOPATH: [github.com/emirpasic/gods/maps/hashmap]\n",
      "(1/4) installed \"github.com/emirpasic/gods/utils\"\n",
      "(2/4) installed \"github.com/emirpasic/gods/containers\"\n",
      "(3/4) installed \"github.com/emirpasic/gods/maps\"\n",
      "(4/4) installed \"github.com/emirpasic/gods/maps/hashmap\"\n"
     ]
    }
   ],
   "source": [
    "import (\n",
    "\t\"fmt\"\n",
    "\t\"github.com/emirpasic/gods/maps/hashmap\"\n",
    ")"
   ]
  },
  {
   "cell_type": "code",
   "execution_count": 48,
   "metadata": {},
   "outputs": [
    {
     "name": "stdout",
     "output_type": "stream",
     "text": [
      "{\"a\":\"1\",\"b\":\"2\",\"c\":\"3\"}\n",
      "26\n",
      "<nil>\n"
     ]
    }
   ],
   "source": [
    "m := hashmap.New()\n",
    "m.Put(\"a\", \"1\")\n",
    "m.Put(\"b\", \"2\")\n",
    "m.Put(\"c\", \"3\")\n",
    "\n",
    "json, err := m.ToJSON()\n",
    "if err != nil {\n",
    "    fmt.Println(err)\n",
    "}\n",
    "fmt.Println(string(json)) // {\"a\":\"1\",\"b\":\"2\",\"c\":\"3\"}"
   ]
  },
  {
   "cell_type": "markdown",
   "metadata": {},
   "source": [
    "#### JSONDeserializer"
   ]
  },
  {
   "cell_type": "code",
   "execution_count": 49,
   "metadata": {},
   "outputs": [
    {
     "name": "stdout",
     "output_type": "stream",
     "text": [
      "HashMap\n",
      "map[aa:11 bb:22]\n",
      "25\n",
      "<nil>\n"
     ]
    }
   ],
   "source": [
    "hm := hashmap.New()\n",
    "\n",
    "json := []byte(`{\"aa\":\"11\",\"bb\":\"22\"}`)\n",
    "err := hm.FromJSON(json)\n",
    "if err != nil {\n",
    "    fmt.Println(err)\n",
    "}\n",
    "fmt.Println(hm) // HashMap map[b:2 a:1]"
   ]
  },
  {
   "cell_type": "markdown",
   "metadata": {},
   "source": [
    "#### Sort"
   ]
  },
  {
   "cell_type": "code",
   "execution_count": 55,
   "metadata": {},
   "outputs": [],
   "source": [
    "strings := []interface{}{}                  // []\n",
    "strings = append(strings, \"d\")              // [\"d\"]\n",
    "strings = append(strings, \"a\")              // [\"d\",\"a\"]\n",
    "strings = append(strings, \"b\")              // [\"d\",\"a\",b\"\n",
    "strings = append(strings, \"c\")              // [\"d\",\"a\",b\",\"c\"]\n",
    "utils.Sort(strings, utils.StringComparator) // [\"a\",\"b\",\"c\",\"d\"]"
   ]
  },
  {
   "cell_type": "code",
   "execution_count": 56,
   "metadata": {},
   "outputs": [
    {
     "name": "stdout",
     "output_type": "stream",
     "text": [
      "[a b c d]\n"
     ]
    }
   ],
   "source": [
    "strings"
   ]
  },
  {
   "cell_type": "code",
   "execution_count": 54,
   "metadata": {},
   "outputs": [
    {
     "name": "stderr",
     "output_type": "stream",
     "text": [
      "1:19: too few arguments in call to utils.Sort\n"
     ]
    }
   ],
   "source": [
    "utils.Sort(strings)"
   ]
  },
  {
   "cell_type": "code",
   "execution_count": 60,
   "metadata": {},
   "outputs": [],
   "source": [
    "ints := []interface{}{11, 5, -1, 100}"
   ]
  },
  {
   "cell_type": "code",
   "execution_count": 61,
   "metadata": {},
   "outputs": [
    {
     "name": "stdout",
     "output_type": "stream",
     "text": [
      "[11 5 -1 100]\n"
     ]
    }
   ],
   "source": [
    "ints"
   ]
  },
  {
   "cell_type": "code",
   "execution_count": 63,
   "metadata": {},
   "outputs": [],
   "source": [
    "utils.Sort(ints, utils.IntComparator)"
   ]
  },
  {
   "cell_type": "code",
   "execution_count": 65,
   "metadata": {},
   "outputs": [
    {
     "name": "stdout",
     "output_type": "stream",
     "text": [
      "[-1 5 11 100]\n"
     ]
    }
   ],
   "source": [
    "ints"
   ]
  },
  {
   "cell_type": "code",
   "execution_count": null,
   "metadata": {},
   "outputs": [],
   "source": []
  }
 ],
 "metadata": {
  "kernelspec": {
   "display_name": "Go (lgo)",
   "language": "go",
   "name": "lgo"
  },
  "language_info": {
   "file_extension": "",
   "mimetype": "",
   "name": "go",
   "version": ""
  }
 },
 "nbformat": 4,
 "nbformat_minor": 2
}
