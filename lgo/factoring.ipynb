{
 "cells": [
  {
   "cell_type": "code",
   "execution_count": 3,
   "metadata": {},
   "outputs": [
    {
     "name": "stdout",
     "output_type": "stream",
     "text": [
      "10\n"
     ]
    }
   ],
   "source": [
    "import math\n",
    "\n",
    "print(int(math.sqrt(100)))"
   ]
  },
  {
   "cell_type": "code",
   "execution_count": 5,
   "metadata": {},
   "outputs": [
    {
     "name": "stdout",
     "output_type": "stream",
     "text": [
      "2\n",
      "3\n",
      "4\n",
      "5\n",
      "6\n",
      "7\n",
      "8\n",
      "9\n"
     ]
    }
   ],
   "source": [
    "for i in range(2,10):\n",
    "    print(i)"
   ]
  },
  {
   "cell_type": "code",
   "execution_count": 21,
   "metadata": {},
   "outputs": [],
   "source": [
    "# find factors for a given N\n",
    "def factors(n):\n",
    "    dictFactor = {1:1, n:1}\n",
    "    bound = int(math.sqrt(n)) + 2\n",
    "    for i in range(2,bound):\n",
    "        if n % i == 0:\n",
    "            dictFactor[i] = 1\n",
    "            dictFactor[int(n/i)] = 1\n",
    "    return sorted(list(dictFactor.keys()))"
   ]
  },
  {
   "cell_type": "code",
   "execution_count": 23,
   "metadata": {},
   "outputs": [
    {
     "data": {
      "text/plain": [
       "[1,\n",
       " 2,\n",
       " 4,\n",
       " 5,\n",
       " 8,\n",
       " 10,\n",
       " 16,\n",
       " 20,\n",
       " 25,\n",
       " 32,\n",
       " 40,\n",
       " 50,\n",
       " 64,\n",
       " 80,\n",
       " 100,\n",
       " 125,\n",
       " 128,\n",
       " 160,\n",
       " 200,\n",
       " 250,\n",
       " 256,\n",
       " 320,\n",
       " 400,\n",
       " 500,\n",
       " 512,\n",
       " 625,\n",
       " 640,\n",
       " 800,\n",
       " 1000,\n",
       " 1024,\n",
       " 1250,\n",
       " 1280,\n",
       " 1600,\n",
       " 2000,\n",
       " 2500,\n",
       " 2560,\n",
       " 3125,\n",
       " 3200,\n",
       " 4000,\n",
       " 5000,\n",
       " 5120,\n",
       " 6250,\n",
       " 6400,\n",
       " 8000,\n",
       " 10000,\n",
       " 12500,\n",
       " 12800,\n",
       " 15625,\n",
       " 16000,\n",
       " 20000,\n",
       " 25000,\n",
       " 25600,\n",
       " 31250,\n",
       " 32000,\n",
       " 40000,\n",
       " 50000,\n",
       " 62500,\n",
       " 64000,\n",
       " 78125,\n",
       " 80000,\n",
       " 100000,\n",
       " 125000,\n",
       " 128000,\n",
       " 156250,\n",
       " 160000,\n",
       " 200000,\n",
       " 250000,\n",
       " 312500,\n",
       " 320000,\n",
       " 390625,\n",
       " 400000,\n",
       " 500000,\n",
       " 625000,\n",
       " 640000,\n",
       " 781250,\n",
       " 800000,\n",
       " 1000000,\n",
       " 1250000,\n",
       " 1562500,\n",
       " 1600000,\n",
       " 1953125,\n",
       " 2000000,\n",
       " 2500000,\n",
       " 3125000,\n",
       " 3200000,\n",
       " 3906250,\n",
       " 4000000,\n",
       " 5000000,\n",
       " 6250000,\n",
       " 7812500,\n",
       " 8000000,\n",
       " 9765625,\n",
       " 10000000,\n",
       " 12500000,\n",
       " 15625000,\n",
       " 16000000,\n",
       " 19531250,\n",
       " 20000000,\n",
       " 25000000,\n",
       " 31250000,\n",
       " 39062500,\n",
       " 40000000,\n",
       " 50000000,\n",
       " 62500000,\n",
       " 78125000,\n",
       " 80000000,\n",
       " 100000000,\n",
       " 125000000,\n",
       " 156250000,\n",
       " 200000000,\n",
       " 250000000,\n",
       " 312500000,\n",
       " 400000000,\n",
       " 500000000,\n",
       " 625000000,\n",
       " 1000000000,\n",
       " 1250000000,\n",
       " 2000000000,\n",
       " 2500000000,\n",
       " 5000000000,\n",
       " 10000000000]"
      ]
     },
     "execution_count": 23,
     "metadata": {},
     "output_type": "execute_result"
    }
   ],
   "source": [
    "factors(10**10)"
   ]
  },
  {
   "cell_type": "code",
   "execution_count": null,
   "metadata": {},
   "outputs": [],
   "source": []
  }
 ],
 "metadata": {
  "kernelspec": {
   "display_name": "Python 3",
   "language": "python",
   "name": "python3"
  },
  "language_info": {
   "codemirror_mode": {
    "name": "ipython",
    "version": 3
   },
   "file_extension": ".py",
   "mimetype": "text/x-python",
   "name": "python",
   "nbconvert_exporter": "python",
   "pygments_lexer": "ipython3",
   "version": "3.7.0"
  }
 },
 "nbformat": 4,
 "nbformat_minor": 2
}
