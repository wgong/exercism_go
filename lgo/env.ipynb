{
 "cells": [
  {
   "cell_type": "code",
   "execution_count": 1,
   "metadata": {},
   "outputs": [
    {
     "name": "stdout",
     "output_type": "stream",
     "text": [
      "Go: go1.9.7 (linux_amd64)\n",
      "User: devopsgong\n",
      "Working dir: /home/devopsgong/go/notebooks\n",
      "NumCPU: 1\n"
     ]
    }
   ],
   "source": [
    "\n",
    "import (\n",
    "    \"fmt\"\n",
    "    \"os\"\n",
    "    \"os/user\"\n",
    "    \"runtime\"\n",
    ")\n",
    "\n",
    "{\n",
    "    user, _ := user.Current()\n",
    "    fmt.Printf(\"Go: %s (%s_%s)\\n\", runtime.Version(), runtime.GOOS, runtime.GOARCH)\n",
    "    fmt.Printf(\"User: %s\\n\", user.Username)\n",
    "    wd, _ := os.Getwd()\n",
    "    fmt.Printf(\"Working dir: %s\\n\", wd)\n",
    "    fmt.Printf(\"NumCPU: %d\\n\", runtime.NumCPU())\n",
    "}"
   ]
  },
  {
   "cell_type": "code",
   "execution_count": null,
   "metadata": {},
   "outputs": [],
   "source": []
  }
 ],
 "metadata": {
  "kernelspec": {
   "display_name": "Go (lgo)",
   "language": "go",
   "name": "lgo"
  },
  "language_info": {
   "file_extension": "",
   "mimetype": "",
   "name": "go",
   "version": ""
  }
 },
 "nbformat": 4,
 "nbformat_minor": 2
}
