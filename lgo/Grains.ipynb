{
 "cells": [
  {
   "cell_type": "code",
   "execution_count": null,
   "metadata": {},
   "outputs": [],
   "source": [
    "//exercism download --exercise=luhn --track=go"
   ]
  },
  {
   "cell_type": "code",
   "execution_count": 148,
   "metadata": {},
   "outputs": [],
   "source": [
    "import \"errors\""
   ]
  },
  {
   "cell_type": "code",
   "execution_count": 152,
   "metadata": {},
   "outputs": [],
   "source": [
    "// Square calculates number of grains per chess board\n",
    "func Square(seq int) (uint64, error) {\n",
    "\tif seq < 1 || seq > 64 {\n",
    "\t\treturn 0, errors.New(\"Invalid input\")\n",
    "\t}\n",
    "\tif seq == 1 {\n",
    "\t\treturn 1, nil\n",
    "\t}\n",
    "\treturn 2 << (uint(seq) - 2), nil\n",
    "}\n",
    "\n",
    "// Total adds up all grains\n",
    "func Total() uint64 {\n",
    "\tt, err := Square(64)\n",
    "\tif err == nil {\n",
    "\t\treturn t - 1\n",
    "\t}\n",
    "\treturn 0\n",
    "}"
   ]
  },
  {
   "cell_type": "code",
   "execution_count": null,
   "metadata": {},
   "outputs": [],
   "source": [
    "import \"fmt\""
   ]
  },
  {
   "cell_type": "code",
   "execution_count": 162,
   "metadata": {},
   "outputs": [],
   "source": [
    "// Square calculates number of grains per chess board\n",
    "func Square(seq int) (uint64, error) {\n",
    "\tif seq < 1 || seq > 64 {\n",
    "\t\treturn 0, fmt.Errorf(\"bad square: %d\", seq)\n",
    "\t}\n",
    "\treturn 1 << (uint(seq) - 1), nil\n",
    "}\n",
    "\n",
    "// Total adds up all grains\n",
    "func Total() uint64 {\n",
    "    const sum uint64 = 18446744073709551615\n",
    "\treturn sum\n",
    "}"
   ]
  },
  {
   "cell_type": "code",
   "execution_count": 155,
   "metadata": {},
   "outputs": [
    {
     "name": "stdout",
     "output_type": "stream",
     "text": [
      "18446744073709551615\n",
      "21\n",
      "<nil>\n"
     ]
    }
   ],
   "source": [
    "fmt.Println(Total())"
   ]
  },
  {
   "cell_type": "code",
   "execution_count": 156,
   "metadata": {},
   "outputs": [
    {
     "name": "stdout",
     "output_type": "stream",
     "text": [
      "0 bad square: -1\n",
      "17\n",
      "<nil>\n"
     ]
    }
   ],
   "source": [
    "fmt.Println(Square(-1))"
   ]
  },
  {
   "cell_type": "code",
   "execution_count": 157,
   "metadata": {},
   "outputs": [
    {
     "name": "stdout",
     "output_type": "stream",
     "text": [
      "0 bad square: 0\n",
      "16\n",
      "<nil>\n"
     ]
    }
   ],
   "source": [
    "fmt.Println(Square(0))"
   ]
  },
  {
   "cell_type": "code",
   "execution_count": 158,
   "metadata": {},
   "outputs": [
    {
     "name": "stdout",
     "output_type": "stream",
     "text": [
      "0 bad square: 65\n",
      "17\n",
      "<nil>\n"
     ]
    }
   ],
   "source": [
    "fmt.Println(Square(65))"
   ]
  },
  {
   "cell_type": "code",
   "execution_count": 159,
   "metadata": {},
   "outputs": [
    {
     "name": "stdout",
     "output_type": "stream",
     "text": [
      "1 <nil>\n",
      "8\n",
      "<nil>\n"
     ]
    }
   ],
   "source": [
    "fmt.Println(Square(1))"
   ]
  },
  {
   "cell_type": "code",
   "execution_count": 160,
   "metadata": {},
   "outputs": [
    {
     "name": "stdout",
     "output_type": "stream",
     "text": [
      "2 <nil>\n",
      "8\n",
      "<nil>\n"
     ]
    }
   ],
   "source": [
    "fmt.Println(Square(2))"
   ]
  },
  {
   "cell_type": "code",
   "execution_count": 123,
   "metadata": {},
   "outputs": [
    {
     "name": "stdout",
     "output_type": "stream",
     "text": [
      "4 false\n",
      "8\n",
      "<nil>\n"
     ]
    }
   ],
   "source": [
    "fmt.Println(Square(3))"
   ]
  },
  {
   "cell_type": "code",
   "execution_count": 127,
   "metadata": {},
   "outputs": [
    {
     "name": "stdout",
     "output_type": "stream",
     "text": [
      "32768 false\n",
      "12\n",
      "<nil>\n"
     ]
    }
   ],
   "source": [
    "fmt.Println(Square(16))"
   ]
  },
  {
   "cell_type": "code",
   "execution_count": 128,
   "metadata": {},
   "outputs": [
    {
     "name": "stdout",
     "output_type": "stream",
     "text": [
      "2147483648 false\n",
      "17\n",
      "<nil>\n"
     ]
    }
   ],
   "source": [
    "fmt.Println(Square(32))"
   ]
  },
  {
   "cell_type": "code",
   "execution_count": 146,
   "metadata": {},
   "outputs": [
    {
     "name": "stdout",
     "output_type": "stream",
     "text": [
      "4611686018427387904 false\n",
      "26\n",
      "<nil>\n"
     ]
    }
   ],
   "source": [
    "fmt.Println(Square(63))"
   ]
  },
  {
   "cell_type": "code",
   "execution_count": 147,
   "metadata": {},
   "outputs": [
    {
     "name": "stdout",
     "output_type": "stream",
     "text": [
      "9223372036854775808 false\n",
      "26\n",
      "<nil>\n"
     ]
    }
   ],
   "source": [
    "fmt.Println(Square(64))"
   ]
  },
  {
   "cell_type": "code",
   "execution_count": null,
   "metadata": {},
   "outputs": [],
   "source": []
  }
 ],
 "metadata": {
  "kernelspec": {
   "display_name": "Go (lgo)",
   "language": "go",
   "name": "lgo"
  },
  "language_info": {
   "file_extension": "",
   "mimetype": "",
   "name": "go",
   "version": ""
  }
 },
 "nbformat": 4,
 "nbformat_minor": 2
}
