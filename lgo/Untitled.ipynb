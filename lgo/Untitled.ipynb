{
 "cells": [
  {
   "cell_type": "code",
   "execution_count": 1,
   "metadata": {},
   "outputs": [],
   "source": [
    "import (\n",
    "    \"regexp\"\n",
    "    \"fmt\"\n",
    ")"
   ]
  },
  {
   "cell_type": "code",
   "execution_count": 40,
   "metadata": {},
   "outputs": [],
   "source": [
    "func Valid(cardNum string) bool {\n",
    "\tif len(cardNum) < 2 {\n",
    "\t\treturn false\n",
    "\t}\n",
    "    \n",
    "    // cleanup card_num\n",
    "    r, _ := regexp.Compile(\"[ ]\")\n",
    "    cardNum = r.ReplaceAllString(cardNum, \"\")\n",
    "\n",
    "    r, _ = regexp.Compile(\"^[0-9]+$\")\n",
    "    if r.MatchString(cardNum) == false {\n",
    "        return false\n",
    "    }\n",
    "    \n",
    "    var n, sm int\n",
    "\n",
    "    for i:=len(cardNum)-1; i > -1; i -= 2 {\n",
    "        fmt.Println(int(cardNum[i] - '0'))\n",
    "        n = int(cardNum[i] - '0')\n",
    "        sm += n        \n",
    "        fmt.Println(\"\\t\", n)\n",
    "    }\n",
    "\n",
    "    fmt.Println(\"****\")\n",
    "    for i:=len(cardNum)-2; i > -1; i -= 2 {\n",
    "        fmt.Println(int(cardNum[i] - '0'))\n",
    "        n = 2*int(cardNum[i] - '0')\n",
    "        if n > 9 {\n",
    "            n -= 9\n",
    "        }\n",
    "        sm += n\n",
    "        fmt.Println(\"\\t\", n)\n",
    "    }   \n",
    "\n",
    "    fmt.Println(sm)\n",
    "    \n",
    "    if sm%10 == 0 {\n",
    "        return true\n",
    "    } else {\n",
    "        return false\n",
    "    }    \n",
    "}"
   ]
  },
  {
   "cell_type": "code",
   "execution_count": 41,
   "metadata": {},
   "outputs": [
    {
     "name": "stdout",
     "output_type": "stream",
     "text": [
      "false\n"
     ]
    }
   ],
   "source": [
    "Valid(\"055a 444 285\")"
   ]
  },
  {
   "cell_type": "code",
   "execution_count": 34,
   "metadata": {},
   "outputs": [
    {
     "name": "stdout",
     "output_type": "stream",
     "text": [
      "4539148803436467\n",
      "7\n",
      "\t 7\n",
      "4\n",
      "\t 4\n",
      "3\n",
      "\t 3\n",
      "3\n",
      "\t 3\n",
      "8\n",
      "\t 8\n",
      "4\n",
      "\t 4\n",
      "9\n",
      "\t 9\n",
      "5\n",
      "\t 5\n",
      "6\n",
      "\t 3\n",
      "6\n",
      "\t 3\n",
      "4\n",
      "\t 8\n",
      "0\n",
      "\t 0\n",
      "8\n",
      "\t 7\n",
      "1\n",
      "\t 2\n",
      "3\n",
      "\t 6\n",
      "4\n",
      "\t 8\n",
      "80\n",
      "true\n"
     ]
    }
   ],
   "source": [
    "Valid(\"4539 1488 0343 6467\")"
   ]
  },
  {
   "cell_type": "code",
   "execution_count": 26,
   "metadata": {},
   "outputs": [
    {
     "name": "stdout",
     "output_type": "stream",
     "text": [
      "false\n"
     ]
    }
   ],
   "source": [
    "Valid(\"8273 1232 7352 0569\")"
   ]
  },
  {
   "cell_type": "code",
   "execution_count": null,
   "metadata": {},
   "outputs": [],
   "source": [
    "//exercism download --exercise=luhn --track=go"
   ]
  }
 ],
 "metadata": {
  "kernelspec": {
   "display_name": "Go (lgo)",
   "language": "go",
   "name": "lgo"
  },
  "language_info": {
   "file_extension": "",
   "mimetype": "",
   "name": "go",
   "version": ""
  }
 },
 "nbformat": 4,
 "nbformat_minor": 2
}
